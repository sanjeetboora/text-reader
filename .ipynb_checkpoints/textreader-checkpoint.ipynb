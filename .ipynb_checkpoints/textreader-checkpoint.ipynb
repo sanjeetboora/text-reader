{
 "cells": [
  {
   "cell_type": "code",
   "execution_count": 4,
   "metadata": {},
   "outputs": [
    {
     "name": "stdout",
     "output_type": "stream",
     "text": [
      "This is a lot of 12 point text to test the\n",
      "ocr code and see if it works on all types\n",
      "of file format.\n",
      "\n",
      "The quick brown dog jumped over the\n",
      "lazy fox. The quick brown dog jumped\n",
      "over the lazy fox. The quick brown dog\n",
      "jumped over the lazy fox. The quick\n",
      "brown dog jumped over the lazy fox.\n"
     ]
    }
   ],
   "source": [
    "# Import necessary libraries\n",
    "from PIL import Image\n",
    "import pytesseract\n",
    "from pytesseract import image_to_string\n",
    "from subprocess import call\n",
    "from gtts import gTTS\n",
    "import os\n",
    "import subprocess\n",
    "from os import system\n",
    "from playsound import playsound\n",
    "\n",
    "# printing the text converted from the image \n",
    "print (image_to_string(Image.open('test.png')))\n",
    "txt = image_to_string(Image.open('test.png'))\n",
    "language = 'en'\n",
    "\n",
    "# converting the text to speech file\n",
    "tts = gTTS(text=txt, lang='en', slow=False)\n",
    "\n",
    "# Save the file\n",
    "tts.save(\"test.mp3\")\n",
    "\n",
    "# play the converted file\n",
    "playsound('test.mp3')\n"
   ]
  },
  {
   "cell_type": "code",
   "execution_count": null,
   "metadata": {},
   "outputs": [],
   "source": []
  },
  {
   "cell_type": "code",
   "execution_count": null,
   "metadata": {},
   "outputs": [],
   "source": []
  },
  {
   "cell_type": "code",
   "execution_count": null,
   "metadata": {},
   "outputs": [],
   "source": []
  },
  {
   "cell_type": "code",
   "execution_count": null,
   "metadata": {},
   "outputs": [],
   "source": []
  }
 ],
 "metadata": {
  "kernelspec": {
   "display_name": "Python 3",
   "language": "python",
   "name": "python3"
  },
  "language_info": {
   "codemirror_mode": {
    "name": "ipython",
    "version": 3
   },
   "file_extension": ".py",
   "mimetype": "text/x-python",
   "name": "python",
   "nbconvert_exporter": "python",
   "pygments_lexer": "ipython3",
   "version": "3.6.6"
  }
 },
 "nbformat": 4,
 "nbformat_minor": 2
}
